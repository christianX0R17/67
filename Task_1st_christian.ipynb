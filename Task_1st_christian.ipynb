{
 "cells": [
  {
   "cell_type": "code",
   "execution_count": 1,
   "id": "7aea23b0",
   "metadata": {},
   "outputs": [],
   "source": [
    "def make_shirt(shirt_size,shirt_text) :\n",
    "    \n",
    "    print(f\" your T-shirt size is : {shirt_size}\",\"and\",f\"the text on your shirt is : {shirt_text}\")"
   ]
  },
  {
   "cell_type": "code",
   "execution_count": 2,
   "id": "054f417e",
   "metadata": {},
   "outputs": [
    {
     "name": "stdout",
     "output_type": "stream",
     "text": [
      "what is the size of the shirt you want: 34\n",
      "Can you please write the text to be printed on your shirt: I LOVE YOU\n",
      " your T-shirt size is : 34 and the text on your shirt is : I LOVE YOU\n"
     ]
    }
   ],
   "source": [
    "make_shirt(int(input('what is the size of the shirt you want: ')), \n",
    "               input('Can you please write the text to be printed on your shirt: ') )"
   ]
  },
  {
   "cell_type": "code",
   "execution_count": 3,
   "id": "61d00107",
   "metadata": {},
   "outputs": [
    {
     "name": "stdout",
     "output_type": "stream",
     "text": [
      " your T-shirt size is : 34 and the text on your shirt is : I love India\n"
     ]
    }
   ],
   "source": [
    "make_shirt(shirt_size='34',shirt_text='I love India')"
   ]
  },
  {
   "cell_type": "code",
   "execution_count": 4,
   "id": "22e9deab",
   "metadata": {},
   "outputs": [
    {
     "name": "stdout",
     "output_type": "stream",
     "text": [
      " your T-shirt size is : 34 and the text on your shirt is : i love India\n"
     ]
    }
   ],
   "source": [
    "make_shirt('34','i love India')"
   ]
  },
  {
   "cell_type": "code",
   "execution_count": 5,
   "id": "fc682ccc",
   "metadata": {},
   "outputs": [],
   "source": [
    "def make_shirt(shirt_size = \"Large\",shirt_text=\"I LOVE PYTHON\") :\n",
    "    \n",
    "    print(f\" your T-shirt size is : {shirt_size}\",\"and\",f\"the text on your shirt is : {shirt_text}\")"
   ]
  },
  {
   "cell_type": "code",
   "execution_count": 6,
   "id": "728f4d0e",
   "metadata": {},
   "outputs": [
    {
     "name": "stdout",
     "output_type": "stream",
     "text": [
      " your T-shirt size is : Large and the text on your shirt is : I LOVE PYTHON\n"
     ]
    }
   ],
   "source": [
    "make_shirt()"
   ]
  },
  {
   "cell_type": "code",
   "execution_count": 7,
   "id": "6742c02c",
   "metadata": {},
   "outputs": [],
   "source": [
    "def make_shirt(shirt_size = \"Medium\",shirt_text=\"I LOVE PYTHON\") :\n",
    "    \n",
    "    print(f\" your T-shirt size is : {shirt_size}\",\"and\",f\"the text on your shirt is : {shirt_text}\")"
   ]
  },
  {
   "cell_type": "code",
   "execution_count": 8,
   "id": "4df17c1f",
   "metadata": {},
   "outputs": [
    {
     "name": "stdout",
     "output_type": "stream",
     "text": [
      " your T-shirt size is : Medium and the text on your shirt is : I LOVE PYTHON\n"
     ]
    }
   ],
   "source": [
    "make_shirt()"
   ]
  },
  {
   "cell_type": "code",
   "execution_count": 9,
   "id": "535e182d",
   "metadata": {},
   "outputs": [],
   "source": [
    "def make_shirt(shirt_size = \"EXTRA LARGE\",shirt_text=\"MAKE A SMILE\") :\n",
    "    \n",
    "    print(f\" your T-shirt size is : {shirt_size}\",\"and\",f\"the text on your shirt is : {shirt_text}\")"
   ]
  },
  {
   "cell_type": "code",
   "execution_count": 10,
   "id": "75521c45",
   "metadata": {},
   "outputs": [
    {
     "name": "stdout",
     "output_type": "stream",
     "text": [
      " your T-shirt size is : EXTRA LARGE and the text on your shirt is : MAKE A SMILE\n"
     ]
    }
   ],
   "source": [
    "make_shirt()"
   ]
  },
  {
   "cell_type": "code",
   "execution_count": null,
   "id": "172878fa",
   "metadata": {},
   "outputs": [],
   "source": [
    "### CITIES"
   ]
  },
  {
   "cell_type": "code",
   "execution_count": 11,
   "id": "aba249f0",
   "metadata": {},
   "outputs": [],
   "source": [
    "def describe_city(city_name,country_name) :\n",
    "    print('{city_name}', \"is\",f\"in {country_name}\")"
   ]
  },
  {
   "cell_type": "code",
   "execution_count": 14,
   "id": "a949e54d",
   "metadata": {},
   "outputs": [],
   "source": [
    "def describe_city(city_name,country_name='INDIA') :\n",
    "    print(f\"{city_name}\", \"is\",f\"in {country_name}\")"
   ]
  },
  {
   "cell_type": "code",
   "execution_count": 15,
   "id": "16cac5dd",
   "metadata": {},
   "outputs": [
    {
     "name": "stdout",
     "output_type": "stream",
     "text": [
      "New Delhi is in INDIA\n"
     ]
    }
   ],
   "source": [
    "describe_city('New Delhi')"
   ]
  },
  {
   "cell_type": "code",
   "execution_count": 17,
   "id": "e0b32719",
   "metadata": {},
   "outputs": [
    {
     "name": "stdout",
     "output_type": "stream",
     "text": [
      "BANGALORE is in INDIA\n"
     ]
    }
   ],
   "source": [
    "describe_city('BANGALORE')"
   ]
  },
  {
   "cell_type": "code",
   "execution_count": 18,
   "id": "b2843096",
   "metadata": {},
   "outputs": [
    {
     "name": "stdout",
     "output_type": "stream",
     "text": [
      "hydrabad is in INDIA\n"
     ]
    }
   ],
   "source": [
    "describe_city('hydrabad')"
   ]
  },
  {
   "cell_type": "code",
   "execution_count": 19,
   "id": "126d332c",
   "metadata": {},
   "outputs": [],
   "source": [
    "def describe_city(city_name,country_name='INDIA') :\n",
    "    print(f\"{city_name}\", \"is not\",f\"in {country_name}\")"
   ]
  },
  {
   "cell_type": "code",
   "execution_count": 21,
   "id": "57ded5e8",
   "metadata": {},
   "outputs": [
    {
     "name": "stdout",
     "output_type": "stream",
     "text": [
      "Paris is not in INDIA\n"
     ]
    }
   ],
   "source": [
    "describe_city('Paris')"
   ]
  },
  {
   "cell_type": "code",
   "execution_count": null,
   "id": "4056b6aa",
   "metadata": {},
   "outputs": [],
   "source": []
  }
 ],
 "metadata": {
  "kernelspec": {
   "display_name": "Python 3",
   "language": "python",
   "name": "python3"
  },
  "language_info": {
   "codemirror_mode": {
    "name": "ipython",
    "version": 3
   },
   "file_extension": ".py",
   "mimetype": "text/x-python",
   "name": "python",
   "nbconvert_exporter": "python",
   "pygments_lexer": "ipython3",
   "version": "3.8.8"
  }
 },
 "nbformat": 4,
 "nbformat_minor": 5
}
